{
 "cells": [
  {
   "cell_type": "markdown",
   "id": "df780acc",
   "metadata": {},
   "source": [
    "Print the following pattern for the given N number of rows.\n",
    "\n",
    "Pattern for N = 4\n",
    "1\n",
    "22\n",
    "333\n",
    "4444\n",
    "\n",
    "Input format :\n",
    "Integer N (Total no. of rows)\n",
    "\n",
    "Output format :\n",
    "Pattern in N lines\n",
    "\n",
    "Constraints\n",
    "0 <= N <= 50\n",
    "\n",
    "Sample Input 1:\n",
    "5\n",
    "\n",
    "Sample Output 1:\n",
    "1\n",
    "22\n",
    "333\n",
    "4444\n",
    "55555\n",
    "\n",
    "Sample Input 2:\n",
    "6\n",
    "\n",
    "Sample Output 2:\n",
    "1\n",
    "22\n",
    "333\n",
    "4444\n",
    "55555\n",
    "666666"
   ]
  },
  {
   "cell_type": "code",
   "execution_count": 1,
   "id": "e7404392",
   "metadata": {},
   "outputs": [
    {
     "name": "stdout",
     "output_type": "stream",
     "text": [
      "4\n",
      "1\n",
      "22\n",
      "333\n",
      "4444\n"
     ]
    }
   ],
   "source": [
    "N=int(input())\n",
    "i=1\n",
    "p=1\n",
    "while i <=N:\n",
    "    j=1\n",
    "    while j <= i:\n",
    "        print(p,end=\"\")\n",
    "        j=j+1\n",
    "    print()\n",
    "    i=i+1\n",
    "    p=p+1"
   ]
  }
 ],
 "metadata": {
  "kernelspec": {
   "display_name": "Python 3 (ipykernel)",
   "language": "python",
   "name": "python3"
  },
  "language_info": {
   "codemirror_mode": {
    "name": "ipython",
    "version": 3
   },
   "file_extension": ".py",
   "mimetype": "text/x-python",
   "name": "python",
   "nbconvert_exporter": "python",
   "pygments_lexer": "ipython3",
   "version": "3.9.7"
  }
 },
 "nbformat": 4,
 "nbformat_minor": 5
}
