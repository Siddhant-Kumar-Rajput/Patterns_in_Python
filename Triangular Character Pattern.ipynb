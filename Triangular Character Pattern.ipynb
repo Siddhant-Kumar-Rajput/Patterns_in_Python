{
 "cells": [
  {
   "cell_type": "markdown",
   "id": "7699ed25",
   "metadata": {},
   "source": [
    "Print the following pattern for the given N number of rows.\n",
    "\n",
    "Pattern for N = 4\n",
    "A\n",
    "BC\n",
    "CDE\n",
    "DEFG\n",
    "\n",
    "Input format :\n",
    "Integer N (Total no. of rows)\n",
    "\n",
    "Output format :\n",
    "Pattern in N lines\n",
    "\n",
    "Constraints\n",
    "0 <= N <= 13\n",
    "\n",
    "Sample Input 1:\n",
    "5\n",
    "\n",
    "Sample Output 1:\n",
    "A\n",
    "BC\n",
    "CDE\n",
    "DEFG\n",
    "EFGHI\n",
    "\n",
    "Sample Input 2:\n",
    "6\n",
    "\n",
    "Sample Output 2:\n",
    "A\n",
    "BC\n",
    "CDE\n",
    "DEFG\n",
    "EFGHI\n",
    "FGHIJK"
   ]
  },
  {
   "cell_type": "code",
   "execution_count": 1,
   "id": "6b94b466",
   "metadata": {},
   "outputs": [
    {
     "name": "stdout",
     "output_type": "stream",
     "text": [
      "4\n",
      "A\n",
      "BC\n",
      "CDE\n",
      "DEFG\n"
     ]
    }
   ],
   "source": [
    "N=int(input())\n",
    "i=1\n",
    "while i<=N:\n",
    "    j=1\n",
    "    k=i\n",
    "    while j<=i:\n",
    "        c=chr(ord('A')+k-1)\n",
    "        print(c,end=\"\")\n",
    "        j=j+1\n",
    "        k=k+1\n",
    "    print()\n",
    "    i=i+1"
   ]
  }
 ],
 "metadata": {
  "kernelspec": {
   "display_name": "Python 3 (ipykernel)",
   "language": "python",
   "name": "python3"
  },
  "language_info": {
   "codemirror_mode": {
    "name": "ipython",
    "version": 3
   },
   "file_extension": ".py",
   "mimetype": "text/x-python",
   "name": "python",
   "nbconvert_exporter": "python",
   "pygments_lexer": "ipython3",
   "version": "3.9.7"
  }
 },
 "nbformat": 4,
 "nbformat_minor": 5
}
