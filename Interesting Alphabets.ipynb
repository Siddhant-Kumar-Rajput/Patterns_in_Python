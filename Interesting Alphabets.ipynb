{
 "cells": [
  {
   "cell_type": "markdown",
   "id": "c2548b80",
   "metadata": {},
   "source": [
    "Print the following pattern for the given number of rows.\n",
    "\n",
    "Pattern for N = 5\n",
    "E\n",
    "DE\n",
    "CDE\n",
    "BCDE\n",
    "ABCDE\n",
    "\n",
    "Input format :\n",
    "N (Total no. of rows)\n",
    "\n",
    "Output format :\n",
    "Pattern in N lines\n",
    "\n",
    "Constraints\n",
    "0 <= N <= 26\n",
    "\n",
    "Sample Input 1:\n",
    "8\n",
    "\n",
    "Sample Output 1:\n",
    "H\n",
    "GH\n",
    "FGH\n",
    "EFGH\n",
    "DEFGH\n",
    "CDEFGH\n",
    "BCDEFGH\n",
    "ABCDEFGH\n",
    "\n",
    "Sample Input 2:\n",
    "7\n",
    "\n",
    "Sample Output 2:\n",
    "G\n",
    "FG\n",
    "EFG\n",
    "DEFG\n",
    "CDEFG\n",
    "BCDEFG\n",
    "ABCDEFG"
   ]
  },
  {
   "cell_type": "code",
   "execution_count": 1,
   "id": "bc92ac9f",
   "metadata": {},
   "outputs": [
    {
     "name": "stdout",
     "output_type": "stream",
     "text": [
      "5\n",
      "E\n",
      "DE\n",
      "CDE\n",
      "BCDE\n",
      "ABCDE\n"
     ]
    }
   ],
   "source": [
    "N=int(input())\n",
    "i=1\n",
    "while i<=N:\n",
    "    j=1\n",
    "    k=N\n",
    "    x=chr(ord('A')+k-1)\n",
    "    while j<=i:\n",
    "        c=chr(ord(x)-(i-j))\n",
    "        print(c,end=\"\")\n",
    "        j=j+1\n",
    "    print()\n",
    "    i=i+1"
   ]
  }
 ],
 "metadata": {
  "kernelspec": {
   "display_name": "Python 3 (ipykernel)",
   "language": "python",
   "name": "python3"
  },
  "language_info": {
   "codemirror_mode": {
    "name": "ipython",
    "version": 3
   },
   "file_extension": ".py",
   "mimetype": "text/x-python",
   "name": "python",
   "nbconvert_exporter": "python",
   "pygments_lexer": "ipython3",
   "version": "3.9.7"
  }
 },
 "nbformat": 4,
 "nbformat_minor": 5
}
