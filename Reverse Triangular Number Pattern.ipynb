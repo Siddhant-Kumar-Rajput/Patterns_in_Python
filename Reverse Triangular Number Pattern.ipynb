{
 "cells": [
  {
   "cell_type": "markdown",
   "id": "597339d7",
   "metadata": {},
   "source": [
    "Print the following pattern for the given N number of rows.\n",
    "\n",
    "Pattern for N = 4\n",
    "1\n",
    "21\n",
    "321\n",
    "4321\n",
    "\n",
    "Input format :\n",
    "Integer N (Total no. of rows)\n",
    "\n",
    "Output format :\n",
    "Pattern in N lines\n",
    "\n",
    "Constraints\n",
    "0 <= N <= 50\n",
    "\n",
    "Sample Input 1:\n",
    "5\n",
    "\n",
    "Sample Output 1:\n",
    "1\n",
    "21\n",
    "321\n",
    "4321\n",
    "54321\n",
    "\n",
    "Sample Input 2:\n",
    "6\n",
    "\n",
    "Sample Output 2:\n",
    "1\n",
    "21\n",
    "321\n",
    "4321\n",
    "54321\n",
    "654321"
   ]
  },
  {
   "cell_type": "code",
   "execution_count": 1,
   "id": "d10b6062",
   "metadata": {},
   "outputs": [
    {
     "name": "stdout",
     "output_type": "stream",
     "text": [
      "4\n",
      "1\n",
      "21\n",
      "321\n",
      "4321\n"
     ]
    }
   ],
   "source": [
    "N=int(input())\n",
    "i=1\n",
    "while i <=N:\n",
    "    j=1\n",
    "    p=i\n",
    "    while j <= i:\n",
    "        print(p,end=\"\")\n",
    "        j=j+1\n",
    "        p=p-1\n",
    "    print()\n",
    "    i=i+1"
   ]
  }
 ],
 "metadata": {
  "kernelspec": {
   "display_name": "Python 3 (ipykernel)",
   "language": "python",
   "name": "python3"
  },
  "language_info": {
   "codemirror_mode": {
    "name": "ipython",
    "version": 3
   },
   "file_extension": ".py",
   "mimetype": "text/x-python",
   "name": "python",
   "nbconvert_exporter": "python",
   "pygments_lexer": "ipython3",
   "version": "3.9.7"
  }
 },
 "nbformat": 4,
 "nbformat_minor": 5
}
