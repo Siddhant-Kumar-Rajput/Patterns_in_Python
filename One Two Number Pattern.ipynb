{
 "cells": [
  {
   "cell_type": "markdown",
   "id": "bd5c6436",
   "metadata": {},
   "source": [
    "Print the following pattern for the given N number of rows.\n",
    "\n",
    "Pattern for N = 4\n",
    "1\n",
    "11\n",
    "121\n",
    "1221\n",
    "\n",
    "Input format :\n",
    "Integer N (Total no. of rows)\n",
    "\n",
    "Output format :\n",
    "Pattern in N lines\n",
    "\n",
    "Sample Input :\n",
    "5\n",
    "\n",
    "Sample Output :\n",
    "1\n",
    "11\n",
    "121\n",
    "1221\n",
    "12221"
   ]
  },
  {
   "cell_type": "code",
   "execution_count": 1,
   "id": "349f75cb",
   "metadata": {},
   "outputs": [
    {
     "name": "stdout",
     "output_type": "stream",
     "text": [
      "6\n",
      "1\n",
      "11\n",
      "121\n",
      "1221\n",
      "12221\n",
      "122221\n"
     ]
    }
   ],
   "source": [
    "N=int(input())\n",
    "i=1\n",
    "while i<=N:\n",
    "    j=1\n",
    "    while j<=i:\n",
    "        if(i==1):\n",
    "            print(\"1\",end=\"\")\n",
    "        elif(j==1 or j==i):\n",
    "            print(\"1\",end=\"\")\n",
    "        else:\n",
    "            print(\"2\",end=\"\")\n",
    "        j=j+1\n",
    "    print()\n",
    "    i=i+1"
   ]
  }
 ],
 "metadata": {
  "kernelspec": {
   "display_name": "Python 3 (ipykernel)",
   "language": "python",
   "name": "python3"
  },
  "language_info": {
   "codemirror_mode": {
    "name": "ipython",
    "version": 3
   },
   "file_extension": ".py",
   "mimetype": "text/x-python",
   "name": "python",
   "nbconvert_exporter": "python",
   "pygments_lexer": "ipython3",
   "version": "3.9.7"
  }
 },
 "nbformat": 4,
 "nbformat_minor": 5
}
